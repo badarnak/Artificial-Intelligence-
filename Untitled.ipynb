{
 "cells": [
  {
   "cell_type": "code",
   "execution_count": null,
   "metadata": {},
   "outputs": [],
   "source": [
    "import numpy as np\n",
    "import skfuzzy as fuzz\n",
    "from skfuzzy import control as ctrl\n"
   ]
  },
  {
   "cell_type": "code",
   "execution_count": null,
   "metadata": {},
   "outputs": [],
   "source": [
    "# New Antecedent/Consequent objects hold universe variables and membership\n",
    "\n",
    "tall=ctrl.Antecedent(np.arange(0,250,1), 'tall')\n",
    "rate = ctrl.Consequent(np.arange(0,10,1), 'rate')\n",
    "\n",
    "# Auto-membership function population is possible with .\n",
    "\n",
    "tall.automf(3)\n",
    "\n",
    "rate['short'] = fuzz.trimf(rate.universe, [0, 165, 170])\n",
    "rate['average'] = fuzz.trimf(rate.universe, [165,180,185])\n",
    "rate['tall'] = fuzz.trimf(rate.universe, [180, 185, 210])\n",
    "\n",
    "\n",
    "\n",
    "\n",
    "rule1 = ctrl.Rule(tall < 165 , tall['Short'])\n",
    "rule2 = ctrl.Rule(tall > 165 AND tall <180  , tall['Average'])\n",
    "rule3 = ctrl.Rule(tall > 180, tip['Tall'])\n",
    "\n",
    "\n",
    "tall_control = ctrl.ControlSystem([rule1, rule2, rule3])\n",
    "\n",
    "talling = ctrl.ControlSystemSimulation(tipping_ctrl)\n",
    "\n",
    "\n",
    "Arr = {}\n",
    "Arr[\"Chris\"] = 208\n",
    "Arr[\"Mark\"] = 205\n",
    "Arr[\"John\"] = 198\n",
    "Arr[\"Tom\"] = 181\n",
    "Arr[\"David\"] = 179\n",
    "Arr[\"Mike\"] = 172\n",
    "Arr[\"Bob\"] = 167\n",
    "Arr[\"Steven\"] = 158\n",
    "Arr[\"Bill\"] = 155\n",
    "Arr[\"Peter\"] = 152\n",
    "\n",
    "talling.input[tall] = Arr[\"Chris\"].value()\n",
    "\n",
    "print talling.output['rate']\n",
    "\n",
    "\n",
    "\n",
    "# You can see how these look with .view()\n",
    "#rate['average'].view()"
   ]
  },
  {
   "cell_type": "code",
   "execution_count": null,
   "metadata": {
    "collapsed": true
   },
   "outputs": [],
   "source": []
  }
 ],
 "metadata": {
  "kernelspec": {
   "display_name": "Python 3",
   "language": "python",
   "name": "python3"
  },
  "language_info": {
   "codemirror_mode": {
    "name": "ipython",
    "version": 3
   },
   "file_extension": ".py",
   "mimetype": "text/x-python",
   "name": "python",
   "nbconvert_exporter": "python",
   "pygments_lexer": "ipython3",
   "version": "3.6.3"
  }
 },
 "nbformat": 4,
 "nbformat_minor": 2
}
